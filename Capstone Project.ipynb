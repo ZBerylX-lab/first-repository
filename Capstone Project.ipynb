{
 "cells": [
  {
   "cell_type": "markdown",
   "metadata": {},
   "source": [
    "# Capstone Project"
   ]
  },
  {
   "cell_type": "markdown",
   "metadata": {},
   "source": [
    "## Introduction/Business Plan"
   ]
  },
  {
   "cell_type": "markdown",
   "metadata": {},
   "source": [
    "San Francisco is another multi-culture city, just as Toronto and New York. It is home for many great restaurants. People have high acceptance for exotic food. One friend is interested in opening a Chinese restaurant in San Francisco. Although the acceptance of authentic Chinese food is high in San Francisco, the competition is also stressful in the city. He wants to pick an appropriate neighborhood for the restaurant. The criteria for a good candidate will include evaluate which neighborhood has more competition and evaluate which neighborhood already has high-rating popular restaurants, especially Asian/Chinese restaurants. It is ideal to pick a neighborhood that has less competition for the friend to enter the market."
   ]
  },
  {
   "cell_type": "markdown",
   "metadata": {},
   "source": [
    "## Data"
   ]
  },
  {
   "cell_type": "markdown",
   "metadata": {},
   "source": [
    "First, the geo data of San Francisco neighborhood is needed. This data can be found online from San Francisco city government. https://data.sfgov.org/Geographic-Locations-and-Boundaries/SF-Find-Neighborhoods/pty2-tcw4. Although the data was collected in 2006 and is slightly outdated, it is good enough to get a general idea for place to open a restaurant. Second, list of popular venues and number of counts of different venues for each neighborhood in San Francisco are needed from FourSquare. Similar lists for venues sorted by rate are also needed for the neighborhood. By clustering the neighborhood in SF, several candidate place can be identified for potential suitable place for opening a new Chinese restaurant. "
   ]
  },
  {
   "cell_type": "code",
   "execution_count": null,
   "metadata": {},
   "outputs": [],
   "source": []
  }
 ],
 "metadata": {
  "kernelspec": {
   "display_name": "Python",
   "language": "python",
   "name": "conda-env-python-py"
  },
  "language_info": {
   "codemirror_mode": {
    "name": "ipython",
    "version": 3
   },
   "file_extension": ".py",
   "mimetype": "text/x-python",
   "name": "python",
   "nbconvert_exporter": "python",
   "pygments_lexer": "ipython3",
   "version": "3.6.10"
  }
 },
 "nbformat": 4,
 "nbformat_minor": 4
}
